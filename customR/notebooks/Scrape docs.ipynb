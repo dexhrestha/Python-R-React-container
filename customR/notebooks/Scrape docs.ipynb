{
 "cells": [
  {
   "cell_type": "code",
   "execution_count": 2,
   "id": "35e2779a",
   "metadata": {},
   "outputs": [],
   "source": [
    "from bs4 import BeautifulSoup\n",
    "import requests"
   ]
  },
  {
   "cell_type": "code",
   "execution_count": 3,
   "id": "07861d94",
   "metadata": {},
   "outputs": [],
   "source": [
    "res = requests.get('https://plotly.com/r/reference/')"
   ]
  },
  {
   "cell_type": "code",
   "execution_count": 5,
   "id": "37b40ec9",
   "metadata": {},
   "outputs": [],
   "source": [
    "soup = BeautifulSoup(res.text, \"html.parser\")"
   ]
  },
  {
   "cell_type": "code",
   "execution_count": 12,
   "id": "7314569b",
   "metadata": {},
   "outputs": [],
   "source": [
    "doc = soup.find_all('div',attrs={'class':\"eight columns\"})"
   ]
  },
  {
   "cell_type": "code",
   "execution_count": 20,
   "id": "1516254d",
   "metadata": {},
   "outputs": [],
   "source": [
    "ul = doc[0].find_all('ul')"
   ]
  },
  {
   "cell_type": "code",
   "execution_count": 21,
   "id": "2e94fcb3",
   "metadata": {},
   "outputs": [],
   "source": [
    "scatter = ul[0]"
   ]
  },
  {
   "cell_type": "code",
   "execution_count": 46,
   "id": "678b4f7c",
   "metadata": {},
   "outputs": [],
   "source": [
    "scatterd = {''}"
   ]
  },
  {
   "cell_type": "code",
   "execution_count": 86,
   "id": "c0a3a5e5",
   "metadata": {},
   "outputs": [],
   "source": [
    "keys=scatter.find_all('li')\n",
    "keys=[key.find_all('a',attrs={'class':'attribute-name'})[0].attrs.get('href') for key in keys]"
   ]
  },
  {
   "cell_type": "code",
   "execution_count": 112,
   "id": "4310896a",
   "metadata": {},
   "outputs": [],
   "source": [
    "def traverseJSON(data,path=[]):\n",
    "    if data is None:\n",
    "        print('data none')\n",
    "        return \"\"\n",
    "    if not path:\n",
    "        print('path empty')\n",
    "        return data\n",
    "    else:        \n",
    "        print('traversing',data,path[0],path[1:])\n",
    "        return traverseJSON(data.get(path[0]),path[1:])"
   ]
  },
  {
   "cell_type": "code",
   "execution_count": 113,
   "id": "ce78b2a3",
   "metadata": {},
   "outputs": [],
   "source": [
    "scatterd = {\"legendgrouptitle\":{\"font\":{\"family\":\"\",\"color\":\"\",\"size\":\"\"},\"tickformat\":\"\",\"tickformatstops\":{\"dtickrange\":\"\",\"enabled\":\"\"}}}"
   ]
  },
  {
   "cell_type": "code",
   "execution_count": 114,
   "id": "966e04f5",
   "metadata": {},
   "outputs": [
    {
     "name": "stdout",
     "output_type": "stream",
     "text": [
      "traversing {'legendgrouptitle': {'font': {'family': '', 'color': '', 'size': ''}, 'tickformat': '', 'tickformatstops': {'dtickrange': '', 'enabled': ''}}} tickformat []\n",
      "data none\n"
     ]
    },
    {
     "data": {
      "text/plain": [
       "''"
      ]
     },
     "execution_count": 114,
     "metadata": {},
     "output_type": "execute_result"
    }
   ],
   "source": [
    "traverseJSON(scatterd,['tickformat'])"
   ]
  },
  {
   "cell_type": "code",
   "execution_count": null,
   "id": "603ac2b6",
   "metadata": {},
   "outputs": [],
   "source": []
  }
 ],
 "metadata": {
  "kernelspec": {
   "display_name": "Python 3 (ipykernel)",
   "language": "python",
   "name": "python3"
  },
  "language_info": {
   "codemirror_mode": {
    "name": "ipython",
    "version": 3
   },
   "file_extension": ".py",
   "mimetype": "text/x-python",
   "name": "python",
   "nbconvert_exporter": "python",
   "pygments_lexer": "ipython3",
   "version": "3.9.7"
  }
 },
 "nbformat": 4,
 "nbformat_minor": 5
}
