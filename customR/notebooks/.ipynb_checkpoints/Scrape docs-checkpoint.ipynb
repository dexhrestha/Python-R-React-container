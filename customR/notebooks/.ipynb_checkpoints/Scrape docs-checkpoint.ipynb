{
 "cells": [
  {
   "cell_type": "code",
   "execution_count": 2,
   "id": "ef11b027",
   "metadata": {},
   "outputs": [],
   "source": [
    "from bs4 import BeautifulSoup\n",
    "import requests"
   ]
  },
  {
   "cell_type": "code",
   "execution_count": 3,
   "id": "67523a8a",
   "metadata": {},
   "outputs": [],
   "source": [
    "res = requests.get('https://plotly.com/r/reference/')"
   ]
  },
  {
   "cell_type": "code",
   "execution_count": 5,
   "id": "418acdbd",
   "metadata": {},
   "outputs": [],
   "source": [
    "soup = BeautifulSoup(res.text, \"html.parser\")"
   ]
  },
  {
   "cell_type": "code",
   "execution_count": 12,
   "id": "1e08e207",
   "metadata": {},
   "outputs": [],
   "source": [
    "doc = soup.find_all('div',attrs={'class':\"eight columns\"})"
   ]
  },
  {
   "cell_type": "code",
   "execution_count": 20,
   "id": "4d353454",
   "metadata": {},
   "outputs": [],
   "source": [
    "ul = doc[0].find_all('ul')"
   ]
  },
  {
   "cell_type": "code",
   "execution_count": 21,
   "id": "1bde2998",
   "metadata": {},
   "outputs": [],
   "source": [
    "scatter = ul[0]"
   ]
  },
  {
   "cell_type": "code",
   "execution_count": 27,
   "id": "68d62d81",
   "metadata": {},
   "outputs": [],
   "source": [
    "row = scatter.find_all('li')[0]"
   ]
  },
  {
   "cell_type": "code",
   "execution_count": 34,
   "id": "15cf8822",
   "metadata": {},
   "outputs": [
    {
     "ename": "IndexError",
     "evalue": "list index out of range",
     "output_type": "error",
     "traceback": [
      "\u001b[1;31m---------------------------------------------------------------------------\u001b[0m",
      "\u001b[1;31mIndexError\u001b[0m                                Traceback (most recent call last)",
      "\u001b[1;32m~\\AppData\\Local\\Temp/ipykernel_29132/517873510.py\u001b[0m in \u001b[0;36m<module>\u001b[1;34m\u001b[0m\n\u001b[1;32m----> 1\u001b[1;33m \u001b[0mrow\u001b[0m\u001b[1;33m.\u001b[0m\u001b[0mfind_all\u001b[0m\u001b[1;33m(\u001b[0m\u001b[1;34m'a'\u001b[0m\u001b[1;33m)\u001b[0m\u001b[1;33m[\u001b[0m\u001b[1;36m1\u001b[0m\u001b[1;33m]\u001b[0m\u001b[1;33m.\u001b[0m\u001b[0mtext\u001b[0m\u001b[1;33m.\u001b[0m\u001b[0mstrip\u001b[0m\u001b[1;33m(\u001b[0m\u001b[1;33m)\u001b[0m\u001b[1;33m\u001b[0m\u001b[1;33m\u001b[0m\u001b[0m\n\u001b[0m",
      "\u001b[1;31mIndexError\u001b[0m: list index out of range"
     ]
    }
   ],
   "source": [
    "row.find_all('a')[0].text.strip()"
   ]
  },
  {
   "cell_type": "code",
   "execution_count": null,
   "id": "82243c1c",
   "metadata": {},
   "outputs": [],
   "source": []
  }
 ],
 "metadata": {
  "kernelspec": {
   "display_name": "Python 3 (ipykernel)",
   "language": "python",
   "name": "python3"
  },
  "language_info": {
   "codemirror_mode": {
    "name": "ipython",
    "version": 3
   },
   "file_extension": ".py",
   "mimetype": "text/x-python",
   "name": "python",
   "nbconvert_exporter": "python",
   "pygments_lexer": "ipython3",
   "version": "3.9.7"
  }
 },
 "nbformat": 4,
 "nbformat_minor": 5
}
